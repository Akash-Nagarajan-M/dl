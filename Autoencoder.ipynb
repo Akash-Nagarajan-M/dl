{
  "cells": [
    {
      "cell_type": "markdown",
      "metadata": {
        "id": "view-in-github",
        "colab_type": "text"
      },
      "source": [
        "<a href=\"https://colab.research.google.com/github/Akash-Nagarajan-M/dl/blob/main/Autoencoder.ipynb\" target=\"_parent\"><img src=\"https://colab.research.google.com/assets/colab-badge.svg\" alt=\"Open In Colab\"/></a>"
      ]
    },
    {
      "cell_type": "code",
      "execution_count": null,
      "metadata": {
        "id": "45ovH25vDDIF"
      },
      "outputs": [],
      "source": [
        "from keras.layers import Dense,Conv2D,MaxPooling2D,UpSampling2D\n",
        "from keras import Input, Model, Sequential\n",
        "from keras.datasets import mnist\n",
        "import numpy as np\n",
        "import matplotlib.pyplot as plt"
      ]
    },
    {
      "cell_type": "code",
      "execution_count": null,
      "metadata": {
        "id": "nfvmVr01DKxo"
      },
      "outputs": [],
      "source": [
        "encoding_dim = 15 \n",
        "input_img = Input(shape=(784,))\n",
        "# encoded representation of input\n",
        "encoded = Dense(encoding_dim, activation='relu')(input_img)\n",
        "# decoded representation of code \n",
        "decoded = Dense(784, activation='sigmoid')(encoded)\n",
        "# Model which take input image and shows decoded images\n",
        "autoencoder = Model(input_img, decoded)"
      ]
    },
    {
      "cell_type": "code",
      "execution_count": null,
      "metadata": {
        "id": "_AxC1GRvDM3E"
      },
      "outputs": [],
      "source": [
        "# This model shows encoded images\n",
        "encoder = Model(input_img, encoded)\n",
        "# Creating a decoder model\n",
        "encoded_input = Input(shape=(encoding_dim,))\n",
        "# last layer of the autoencoder model\n",
        "decoder_layer = autoencoder.layers[-1]\n",
        "# decoder model\n",
        "decoder = Model(encoded_input, decoder_layer(encoded_input))"
      ]
    },
    {
      "cell_type": "code",
      "execution_count": null,
      "metadata": {
        "id": "N83vMRNFDTYF"
      },
      "outputs": [],
      "source": [
        "autoencoder.compile(optimizer='adam', loss='binary_crossentropy')"
      ]
    },
    {
      "cell_type": "code",
      "execution_count": null,
      "metadata": {
        "colab": {
          "base_uri": "https://localhost:8080/"
        },
        "id": "vj-0S1fWDWol",
        "outputId": "9de92ea2-7067-493a-d226-884c1e360d84"
      },
      "outputs": [
        {
          "output_type": "stream",
          "name": "stdout",
          "text": [
            "Downloading data from https://storage.googleapis.com/tensorflow/tf-keras-datasets/mnist.npz\n",
            "11490434/11490434 [==============================] - 2s 0us/step\n",
            "(60000, 784)\n",
            "(10000, 784)\n"
          ]
        }
      ],
      "source": [
        "(x_train, y_train), (x_test, y_test) = mnist.load_data()\n",
        "x_train = x_train.astype('float32') / 255.\n",
        "x_test = x_test.astype('float32') / 255.\n",
        "x_train = x_train.reshape((len(x_train), np.prod(x_train.shape[1:])))\n",
        "x_test = x_test.reshape((len(x_test), np.prod(x_test.shape[1:])))\n",
        "print(x_train.shape)\n",
        "print(x_test.shape)"
      ]
    },
    {
      "cell_type": "code",
      "execution_count": null,
      "metadata": {
        "colab": {
          "base_uri": "https://localhost:8080/",
          "height": 282
        },
        "id": "7kN5S0z1DZI6",
        "outputId": "c190250e-2eea-4fbc-a470-4a151e4aed5c"
      },
      "outputs": [
        {
          "output_type": "execute_result",
          "data": {
            "text/plain": [
              "<matplotlib.image.AxesImage at 0x7ff3400c2fd0>"
            ]
          },
          "metadata": {},
          "execution_count": 6
        },
        {
          "output_type": "display_data",
          "data": {
            "text/plain": [
              "<Figure size 432x288 with 1 Axes>"
            ],
            "image/png": "[encoded data removed]"
          },
          "metadata": {
            "needs_background": "light"
          }
        }
      ],
      "source": [
        "plt.imshow(x_train[0].reshape(28,28))"
      ]
    },
    {
      "cell_type": "code",
      "execution_count": null,
      "metadata": {
        "colab": {
          "base_uri": "https://localhost:8080/"
        },
        "id": "RsKcCBy_Dr9q",
        "outputId": "e3da3008-a660-4c13-f9ee-a529a8a8f3bb"
      },
      "outputs": [
        {
          "output_type": "stream",
          "name": "stdout",
          "text": [
            "Epoch 1/15\n",
            "235/235 [==============================] - 6s 8ms/step - loss: 0.3102 - val_loss: 0.2279\n",
            "Epoch 2/15\n",
            "235/235 [==============================] - 2s 7ms/step - loss: 0.2034 - val_loss: 0.1840\n",
            "Epoch 3/15\n",
            "235/235 [==============================] - 2s 7ms/step - loss: 0.1757 - val_loss: 0.1659\n",
            "Epoch 4/15\n",
            "235/235 [==============================] - 2s 7ms/step - loss: 0.1608 - val_loss: 0.1544\n",
            "Epoch 5/15\n",
            "235/235 [==============================] - 2s 7ms/step - loss: 0.1521 - val_loss: 0.1486\n",
            "Epoch 6/15\n",
            "235/235 [==============================] - 1s 4ms/step - loss: 0.1477 - val_loss: 0.1451\n",
            "Epoch 7/15\n",
            "235/235 [==============================] - 1s 4ms/step - loss: 0.1448 - val_loss: 0.1426\n",
            "Epoch 8/15\n",
            "235/235 [==============================] - 1s 4ms/step - loss: 0.1427 - val_loss: 0.1406\n",
            "Epoch 9/15\n",
            "235/235 [==============================] - 1s 4ms/step - loss: 0.1409 - val_loss: 0.1389\n",
            "Epoch 10/15\n",
            "235/235 [==============================] - 1s 4ms/step - loss: 0.1393 - val_loss: 0.1375\n",
            "Epoch 11/15\n",
            "235/235 [==============================] - 1s 4ms/step - loss: 0.1380 - val_loss: 0.1362\n",
            "Epoch 12/15\n",
            "235/235 [==============================] - 1s 4ms/step - loss: 0.1369 - val_loss: 0.1351\n",
            "Epoch 13/15\n",
            "235/235 [==============================] - 1s 4ms/step - loss: 0.1360 - val_loss: 0.1342\n",
            "Epoch 14/15\n",
            "235/235 [==============================] - 1s 4ms/step - loss: 0.1352 - val_loss: 0.1335\n",
            "Epoch 15/15\n",
            "235/235 [==============================] - 1s 4ms/step - loss: 0.1346 - val_loss: 0.1330\n"
          ]
        },
        {
          "output_type": "execute_result",
          "data": {
            "text/plain": [
              "<keras.callbacks.History at 0x7ff340043970>"
            ]
          },
          "metadata": {},
          "execution_count": 7
        }
      ],
      "source": [
        "autoencoder.fit(x_train, x_train,\n",
        "                epochs=15,\n",
        "                batch_size=256,\n",
        "                validation_data=(x_test, x_test))"
      ]
    },
    {
      "cell_type": "code",
      "execution_count": null,
      "metadata": {
        "colab": {
          "base_uri": "https://localhost:8080/",
          "height": 287
        },
        "id": "ugU31KYjDs4n",
        "outputId": "aad27921-405c-4eee-92bf-271d7173dd59"
      },
      "outputs": [
        {
          "output_type": "stream",
          "name": "stdout",
          "text": [
            "313/313 [==============================] - 0s 1ms/step\n",
            "313/313 [==============================] - 0s 1ms/step\n"
          ]
        },
        {
          "output_type": "display_data",
          "data": {
            "text/plain": [
              "<Figure size 1440x288 with 10 Axes>"
            ],
            "image/png": "[encoded data removed]"
          },
          "metadata": {
            "needs_background": "light"
          }
        }
      ],
      "source": [
        "encoded_img = encoder.predict(x_test)\n",
        "decoded_img = decoder.predict(encoded_img)\n",
        "plt.figure(figsize=(20, 4))\n",
        "for i in range(5):\n",
        "    # Display original\n",
        "    ax = plt.subplot(2, 5, i + 1)\n",
        "    plt.imshow(x_test[i].reshape(28, 28))\n",
        "    plt.gray()\n",
        "    ax.get_xaxis().set_visible(False)\n",
        "    ax.get_yaxis().set_visible(False)\n",
        "    # Display reconstruction\n",
        "    ax = plt.subplot(2, 5, i + 1 + 5)\n",
        "    plt.imshow(decoded_img[i].reshape(28, 28))\n",
        "    plt.gray()\n",
        "    ax.get_xaxis().set_visible(False)\n",
        "    ax.get_yaxis().set_visible(False)\n",
        "plt.show()"
      ]
    },
    {
      "cell_type": "markdown",
      "source": [
        "**DEEP CNN AUTOENCODER**"
      ],
      "metadata": {
        "id": "u7EGY7pHHj2v"
      }
    },
    {
      "cell_type": "code",
      "execution_count": null,
      "metadata": {
        "colab": {
          "base_uri": "https://localhost:8080/"
        },
        "id": "RdgLEAMEEvG4",
        "outputId": "342f92b2-75fe-4369-8805-9147d70ed092"
      },
      "outputs": [
        {
          "output_type": "stream",
          "name": "stdout",
          "text": [
            "Model: \"sequential\"\n",
            "_________________________________________________________________\n",
            " Layer (type)                Output Shape              Param #   \n",
            "=================================================================\n",
            " conv2d (Conv2D)             (None, 28, 28, 30)        300       \n",
            "                                                                 \n",
            " max_pooling2d (MaxPooling2D  (None, 14, 14, 30)       0         \n",
            " )                                                               \n",
            "                                                                 \n",
            " conv2d_1 (Conv2D)           (None, 14, 14, 15)        4065      \n",
            "                                                                 \n",
            " max_pooling2d_1 (MaxPooling  (None, 7, 7, 15)         0         \n",
            " 2D)                                                             \n",
            "                                                                 \n",
            " conv2d_2 (Conv2D)           (None, 7, 7, 15)          2040      \n",
            "                                                                 \n",
            " up_sampling2d (UpSampling2D  (None, 14, 14, 15)       0         \n",
            " )                                                               \n",
            "                                                                 \n",
            " conv2d_3 (Conv2D)           (None, 14, 14, 30)        4080      \n",
            "                                                                 \n",
            " up_sampling2d_1 (UpSampling  (None, 28, 28, 30)       0         \n",
            " 2D)                                                             \n",
            "                                                                 \n",
            " conv2d_4 (Conv2D)           (None, 28, 28, 1)         271       \n",
            "                                                                 \n",
            "=================================================================\n",
            "Total params: 10,756\n",
            "Trainable params: 10,756\n",
            "Non-trainable params: 0\n",
            "_________________________________________________________________\n"
          ]
        }
      ],
      "source": [
        "model = Sequential()\n",
        "# encoder network\n",
        "model.add(Conv2D(30, 3, activation= 'relu', padding='same', input_shape = (28,28,1)))\n",
        "model.add(MaxPooling2D(2, padding= 'same'))\n",
        "model.add(Conv2D(15, 3, activation= 'relu', padding='same'))\n",
        "model.add(MaxPooling2D(2, padding= 'same'))\n",
        "#decoder network\n",
        "model.add(Conv2D(15, 3, activation= 'relu', padding='same'))\n",
        "model.add(UpSampling2D(2))\n",
        "model.add(Conv2D(30, 3, activation= 'relu', padding='same'))\n",
        "model.add(UpSampling2D(2))\n",
        "model.add(Conv2D(1,3,activation='sigmoid', padding= 'same')) # output layer\n",
        "model.compile(optimizer= 'adam', loss = 'binary_crossentropy')\n",
        "model.summary()"
      ]
    },
    {
      "cell_type": "code",
      "execution_count": null,
      "metadata": {
        "colab": {
          "base_uri": "https://localhost:8080/"
        },
        "id": "2mHzNfKREwX1",
        "outputId": "260960f4-e4ba-4021-ed72-6282cf98d565"
      },
      "outputs": [
        {
          "output_type": "stream",
          "name": "stdout",
          "text": [
            "Epoch 1/8\n",
            "469/469 [==============================] - 10s 8ms/step - loss: 0.1439 - val_loss: 0.0814\n",
            "Epoch 2/8\n",
            "469/469 [==============================] - 3s 7ms/step - loss: 0.0790 - val_loss: 0.0760\n",
            "Epoch 3/8\n",
            "469/469 [==============================] - 3s 7ms/step - loss: 0.0756 - val_loss: 0.0737\n",
            "Epoch 4/8\n",
            "469/469 [==============================] - 3s 7ms/step - loss: 0.0737 - val_loss: 0.0723\n",
            "Epoch 5/8\n",
            "469/469 [==============================] - 3s 7ms/step - loss: 0.0726 - val_loss: 0.0715\n",
            "Epoch 6/8\n",
            "469/469 [==============================] - 3s 7ms/step - loss: 0.0717 - val_loss: 0.0707\n",
            "Epoch 7/8\n",
            "469/469 [==============================] - 3s 7ms/step - loss: 0.0710 - val_loss: 0.0700\n",
            "Epoch 8/8\n",
            "469/469 [==============================] - 3s 7ms/step - loss: 0.0704 - val_loss: 0.0695\n"
          ]
        },
        {
          "output_type": "execute_result",
          "data": {
            "text/plain": [
              "<keras.callbacks.History at 0x7ff2d15fbb20>"
            ]
          },
          "metadata": {},
          "execution_count": 10
        }
      ],
      "source": [
        "(x_train, _), (x_test, _) = mnist.load_data()\n",
        "x_train = x_train.astype('float32') / 255.\n",
        "x_test = x_test.astype('float32') / 255.\n",
        "x_train = np.reshape(x_train, (len(x_train), 28, 28, 1))\n",
        "x_test = np.reshape(x_test, (len(x_test), 28, 28, 1))\n",
        "model.fit(x_train, x_train,\n",
        "                epochs=8,\n",
        "                batch_size=128,\n",
        "                validation_data=(x_test, x_test))"
      ]
    },
    {
      "cell_type": "code",
      "source": [
        "pred = model.predict(x_test)\n",
        "plt.figure(figsize=(20, 4))\n",
        "for i in range(5):\n",
        "    # Display original\n",
        "    ax = plt.subplot(2, 5, i + 1)\n",
        "    plt.imshow(x_test[i].reshape(28, 28))\n",
        "    plt.gray()\n",
        "    ax.get_xaxis().set_visible(False)\n",
        "    ax.get_yaxis().set_visible(False)\n",
        "    # Display reconstruction\n",
        "    ax = plt.subplot(2, 5, i + 1 + 5)\n",
        "    plt.imshow(pred[i].reshape(28, 28))\n",
        "    plt.gray()\n",
        "    ax.get_xaxis().set_visible(False)\n",
        "    ax.get_yaxis().set_visible(False)\n",
        "plt.show()"
      ],
      "metadata": {
        "colab": {
          "base_uri": "https://localhost:8080/",
          "height": 269
        },
        "id": "-IF8jixQGWDO",
        "outputId": "0f6ba21b-157c-4c58-c4cc-bafeb24438eb"
      },
      "execution_count": 11,
      "outputs": [
        {
          "output_type": "stream",
          "name": "stdout",
          "text": [
            "313/313 [==============================] - 1s 2ms/step\n"
          ]
        },
        {
          "output_type": "display_data",
          "data": {
            "text/plain": [
              "<Figure size 1440x288 with 10 Axes>"
            ],
            "image/png": "[encoded data removed]"
          },
          "metadata": {
            "needs_background": "light"
          }
        }
      ]
    },
    {
      "cell_type": "markdown",
      "source": [
        "**DENOISING AUTOENCODER**\n",
        "\n"
      ],
      "metadata": {
        "id": "bodpRsmkGoei"
      }
    },
    {
      "cell_type": "code",
      "source": [
        "noise_factor = 0.7\n",
        "x_train_noisy = x_train + noise_factor * np.random.normal(loc=0.0, scale=1.0, size=x_train.shape) \n",
        "x_test_noisy = x_test + noise_factor * np.random.normal(loc=0.0, scale=1.0, size=x_test.shape) \n",
        "x_train_noisy = np.clip(x_train_noisy, 0., 1.)\n",
        "x_test_noisy = np.clip(x_test_noisy, 0., 1.)\n",
        "plt.figure(figsize=(20, 2))\n",
        "for i in range(1, 5 + 1):\n",
        "    ax = plt.subplot(1, 5, i)\n",
        "    plt.imshow(x_test_noisy[i].reshape(28, 28))\n",
        "    plt.gray()\n",
        "    ax.get_xaxis().set_visible(False)\n",
        "    ax.get_yaxis().set_visible(False)\n",
        "plt.show()"
      ],
      "metadata": {
        "colab": {
          "base_uri": "https://localhost:8080/",
          "height": 143
        },
        "id": "lX7540FgGgYo",
        "outputId": "6b82bfd2-674b-43af-8922-686277b0e661"
      },
      "execution_count": 13,
      "outputs": [
        {
          "output_type": "display_data",
          "data": {
            "text/plain": [
              "<Figure size 1440x144 with 5 Axes>"
            ],
            "image/png": "[encoded data removed]"
          },
          "metadata": {
            "needs_background": "light"
          }
        }
      ]
    },
    {
      "cell_type": "code",
      "source": [
        "model = Sequential()\n",
        "# encoder network\n",
        "model.add(Conv2D(35, 3, activation= 'relu', padding='same', input_shape = (28,28,1)))\n",
        "model.add(MaxPooling2D(2, padding= 'same'))\n",
        "model.add(Conv2D(25, 3, activation= 'relu', padding='same'))\n",
        "model.add(MaxPooling2D(2, padding= 'same'))\n",
        "#decoder network\n",
        "model.add(Conv2D(25, 3, activation= 'relu', padding='same'))\n",
        "model.add(UpSampling2D(2))\n",
        "model.add(Conv2D(35, 3, activation= 'relu', padding='same'))\n",
        "model.add(UpSampling2D(2))\n",
        "model.add(Conv2D(1,3,activation='sigmoid', padding= 'same')) # output layer\n",
        "model.compile(optimizer= 'adam', loss = 'binary_crossentropy')\n",
        "model.fit(x_train_noisy, x_train,\n",
        "                epochs=15,\n",
        "                batch_size=128,\n",
        "                validation_data=(x_test_noisy, x_test))"
      ],
      "metadata": {
        "colab": {
          "base_uri": "https://localhost:8080/"
        },
        "id": "wF2z01F3Gt8Y",
        "outputId": "8b16525a-eaae-4d60-ce65-a3b1412644e8"
      },
      "execution_count": 14,
      "outputs": [
        {
          "output_type": "stream",
          "name": "stdout",
          "text": [
            "Epoch 1/15\n",
            "469/469 [==============================] - 5s 9ms/step - loss: 0.1914 - val_loss: 0.1475\n",
            "Epoch 2/15\n",
            "469/469 [==============================] - 4s 9ms/step - loss: 0.1437 - val_loss: 0.1377\n",
            "Epoch 3/15\n",
            "469/469 [==============================] - 4s 8ms/step - loss: 0.1372 - val_loss: 0.1343\n",
            "Epoch 4/15\n",
            "469/469 [==============================] - 4s 8ms/step - loss: 0.1341 - val_loss: 0.1310\n",
            "Epoch 5/15\n",
            "469/469 [==============================] - 4s 8ms/step - loss: 0.1316 - val_loss: 0.1292\n",
            "Epoch 6/15\n",
            "469/469 [==============================] - 4s 8ms/step - loss: 0.1295 - val_loss: 0.1276\n",
            "Epoch 7/15\n",
            "469/469 [==============================] - 4s 8ms/step - loss: 0.1280 - val_loss: 0.1264\n",
            "Epoch 8/15\n",
            "469/469 [==============================] - 4s 9ms/step - loss: 0.1269 - val_loss: 0.1251\n",
            "Epoch 9/15\n",
            "469/469 [==============================] - 4s 8ms/step - loss: 0.1259 - val_loss: 0.1241\n",
            "Epoch 10/15\n",
            "469/469 [==============================] - 4s 8ms/step - loss: 0.1250 - val_loss: 0.1251\n",
            "Epoch 11/15\n",
            "469/469 [==============================] - 4s 8ms/step - loss: 0.1244 - val_loss: 0.1229\n",
            "Epoch 12/15\n",
            "469/469 [==============================] - 4s 8ms/step - loss: 0.1239 - val_loss: 0.1227\n",
            "Epoch 13/15\n",
            "469/469 [==============================] - 4s 8ms/step - loss: 0.1233 - val_loss: 0.1219\n",
            "Epoch 14/15\n",
            "469/469 [==============================] - 4s 8ms/step - loss: 0.1229 - val_loss: 0.1215\n",
            "Epoch 15/15\n",
            "469/469 [==============================] - 4s 8ms/step - loss: 0.1225 - val_loss: 0.1216\n"
          ]
        },
        {
          "output_type": "execute_result",
          "data": {
            "text/plain": [
              "<keras.callbacks.History at 0x7ff2d1004dc0>"
            ]
          },
          "metadata": {},
          "execution_count": 14
        }
      ]
    },
    {
      "cell_type": "code",
      "source": [
        "pred = model.predict(x_test_noisy)\n",
        "plt.figure(figsize=(20, 4))\n",
        "for i in range(5):\n",
        "    # Display original\n",
        "    ax = plt.subplot(2, 5, i + 1)\n",
        "    plt.imshow(x_test_noisy[i].reshape(28, 28))\n",
        "    plt.gray()\n",
        "    ax.get_xaxis().set_visible(False)\n",
        "    ax.get_yaxis().set_visible(False)\n",
        "    # Display reconstruction\n",
        "    ax = plt.subplot(2, 5, i + 1 + 5)\n",
        "    plt.imshow(pred[i].reshape(28, 28))\n",
        "    plt.gray()\n",
        "    ax.get_xaxis().set_visible(False)\n",
        "    ax.get_yaxis().set_visible(False)\n",
        "plt.show()"
      ],
      "metadata": {
        "colab": {
          "base_uri": "https://localhost:8080/",
          "height": 269
        },
        "id": "lIcdWu3lHs6s",
        "outputId": "87bdad79-0c85-4e56-96d7-b6ab6ab4d64b"
      },
      "execution_count": 16,
      "outputs": [
        {
          "output_type": "stream",
          "name": "stdout",
          "text": [
            "313/313 [==============================] - 1s 2ms/step\n"
          ]
        },
        {
          "output_type": "display_data",
          "data": {
            "text/plain": [
              "<Figure size 1440x288 with 10 Axes>"
            ],
            "image/png": "[encoded data removed]"
          },
          "metadata": {
            "needs_background": "light"
          }
        }
      ]
    }
  ],
  "metadata": {
    "colab": {
      "provenance": [],
      "authorship_tag": "ABX9TyMlv1mVrxX/vdLMB0/76nja",
      "include_colab_link": true
    },
    "kernelspec": {
      "display_name": "Python 3",
      "name": "python3"
    },
    "language_info": {
      "name": "python"
    },
    "accelerator": "GPU",
    "gpuClass": "standard"
  },
  "nbformat": 4,
  "nbformat_minor": 0
}